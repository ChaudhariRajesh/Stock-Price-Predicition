{
  "cells": [
    {
      "cell_type": "markdown",
      "source": [
        "# **Labrotary Practice 1**\n",
        "**TE IT Sem-1**\n",
        "\n",
        "\n",
        "---\n",
        "\n",
        "\n",
        "# **Stock Price Prediction Using ML**\n",
        "\n",
        "\n",
        "---\n",
        "\n",
        "Batch: **M11**\n",
        "\n",
        "Group ID: **2**\n",
        "\n",
        "\n",
        "\n",
        "---\n",
        "\n",
        "\n",
        "Project Guide:\n",
        "\n",
        "Ms. Sumitra Jakhete.\n",
        "\n",
        "\n",
        "---\n",
        "\n",
        "\n",
        "\n",
        "Group Members:\n",
        "\n",
        "Maya Mane (33336)\n",
        "\n",
        "Kiran Parkhe (33350)\n",
        "\n",
        "Priyanka Ghuge (33361)\n",
        "\n",
        "Rajesh Chaudhari (33362)\n"
      ],
      "metadata": {
        "id": "7OvF1Z4roO4K"
      },
      "id": "7OvF1Z4roO4K"
    },
    {
      "cell_type": "code",
      "execution_count": null,
      "id": "e4de8f13",
      "metadata": {
        "scrolled": true,
        "id": "e4de8f13",
        "outputId": "4c7aa032-fdd4-4845-80c7-e497aa92ca83"
      },
      "outputs": [
        {
          "name": "stdout",
          "output_type": "stream",
          "text": [
            "Requirement already satisfied: chart_studio in c:\\users\\jerry\\anaconda3\\lib\\site-packages (1.1.0)\n",
            "Requirement already satisfied: six in c:\\users\\jerry\\anaconda3\\lib\\site-packages (from chart_studio) (1.16.0)\n",
            "Requirement already satisfied: retrying>=1.3.3 in c:\\users\\jerry\\anaconda3\\lib\\site-packages (from chart_studio) (1.3.3)\n",
            "Requirement already satisfied: plotly in c:\\users\\jerry\\anaconda3\\lib\\site-packages (from chart_studio) (5.4.0)\n",
            "Requirement already satisfied: requests in c:\\users\\jerry\\anaconda3\\lib\\site-packages (from chart_studio) (2.26.0)\n",
            "Requirement already satisfied: tenacity>=6.2.0 in c:\\users\\jerry\\anaconda3\\lib\\site-packages (from plotly->chart_studio) (8.0.1)\n",
            "Requirement already satisfied: charset-normalizer~=2.0.0 in c:\\users\\jerry\\anaconda3\\lib\\site-packages (from requests->chart_studio) (2.0.4)\n",
            "Requirement already satisfied: idna<4,>=2.5 in c:\\users\\jerry\\anaconda3\\lib\\site-packages (from requests->chart_studio) (3.2)\n",
            "Requirement already satisfied: urllib3<1.27,>=1.21.1 in c:\\users\\jerry\\anaconda3\\lib\\site-packages (from requests->chart_studio) (1.26.7)\n",
            "Requirement already satisfied: certifi>=2017.4.17 in c:\\users\\jerry\\anaconda3\\lib\\site-packages (from requests->chart_studio) (2021.10.8)\n",
            "Note: you may need to restart the kernel to use updated packages.\n"
          ]
        }
      ],
      "source": [
        "pip install chart_studio"
      ]
    },
    {
      "cell_type": "code",
      "execution_count": null,
      "id": "fc1283f2",
      "metadata": {
        "id": "fc1283f2",
        "outputId": "72d4b79e-c091-471b-a417-5c25fc8d8e64"
      },
      "outputs": [
        {
          "name": "stdout",
          "output_type": "stream",
          "text": [
            "Requirement already satisfied: plotly==5.4.0 in c:\\users\\jerry\\anaconda3\\lib\\site-packages (5.4.0)\n",
            "Requirement already satisfied: tenacity>=6.2.0 in c:\\users\\jerry\\anaconda3\\lib\\site-packages (from plotly==5.4.0) (8.0.1)\n",
            "Requirement already satisfied: six in c:\\users\\jerry\\anaconda3\\lib\\site-packages (from plotly==5.4.0) (1.16.0)\n",
            "Note: you may need to restart the kernel to use updated packages.\n"
          ]
        }
      ],
      "source": [
        "pip install plotly==5.4.0"
      ]
    },
    {
      "cell_type": "code",
      "execution_count": null,
      "id": "7b07fe65",
      "metadata": {
        "id": "7b07fe65",
        "outputId": "3962aa70-1690-474e-938e-f5c9dbffb496"
      },
      "outputs": [
        {
          "data": {
            "text/html": [
              "        <script type=\"text/javascript\">\n",
              "        window.PlotlyConfig = {MathJaxConfig: 'local'};\n",
              "        if (window.MathJax) {MathJax.Hub.Config({SVG: {font: \"STIX-Web\"}});}\n",
              "        if (typeof require !== 'undefined') {\n",
              "        require.undef(\"plotly\");\n",
              "        requirejs.config({\n",
              "            paths: {\n",
              "                'plotly': ['https://cdn.plot.ly/plotly-2.6.3.min']\n",
              "            }\n",
              "        });\n",
              "        require(['plotly'], function(Plotly) {\n",
              "            window._Plotly = Plotly;\n",
              "        });\n",
              "        }\n",
              "        </script>\n",
              "        "
            ]
          },
          "metadata": {},
          "output_type": "display_data"
        }
      ],
      "source": [
        "#for data manuplation, numerical computation & data visualisation\n",
        "import pandas as pd\n",
        "import numpy as np\n",
        "import matplotlib.pyplot as plt\n",
        "\n",
        "#for building charts & graphs\n",
        "import chart_studio.plotly as py\n",
        "import plotly.graph_objs as go\n",
        "from plotly.offline import plot\n",
        "\n",
        "\n",
        "#for offline plotting\n",
        "from plotly.offline import download_plotlyjs,init_notebook_mode,plot,iplot\n",
        "init_notebook_mode(connected=True)"
      ]
    },
    {
      "cell_type": "code",
      "execution_count": null,
      "id": "2de2f925",
      "metadata": {
        "id": "2de2f925",
        "outputId": "ecce622d-3792-4ae0-af15-0f7094147f52"
      },
      "outputs": [
        {
          "data": {
            "text/html": [
              "<div>\n",
              "<style scoped>\n",
              "    .dataframe tbody tr th:only-of-type {\n",
              "        vertical-align: middle;\n",
              "    }\n",
              "\n",
              "    .dataframe tbody tr th {\n",
              "        vertical-align: top;\n",
              "    }\n",
              "\n",
              "    .dataframe thead th {\n",
              "        text-align: right;\n",
              "    }\n",
              "</style>\n",
              "<table border=\"1\" class=\"dataframe\">\n",
              "  <thead>\n",
              "    <tr style=\"text-align: right;\">\n",
              "      <th></th>\n",
              "      <th>Date</th>\n",
              "      <th>Open</th>\n",
              "      <th>High</th>\n",
              "      <th>Low</th>\n",
              "      <th>Close</th>\n",
              "      <th>Adj Close</th>\n",
              "      <th>Volume</th>\n",
              "    </tr>\n",
              "  </thead>\n",
              "  <tbody>\n",
              "    <tr>\n",
              "      <th>0</th>\n",
              "      <td>29-06-2010</td>\n",
              "      <td>19.000000</td>\n",
              "      <td>25.00</td>\n",
              "      <td>17.540001</td>\n",
              "      <td>23.889999</td>\n",
              "      <td>23.889999</td>\n",
              "      <td>18766300</td>\n",
              "    </tr>\n",
              "    <tr>\n",
              "      <th>1</th>\n",
              "      <td>30-06-2010</td>\n",
              "      <td>25.790001</td>\n",
              "      <td>30.42</td>\n",
              "      <td>23.299999</td>\n",
              "      <td>23.830000</td>\n",
              "      <td>23.830000</td>\n",
              "      <td>17187100</td>\n",
              "    </tr>\n",
              "    <tr>\n",
              "      <th>2</th>\n",
              "      <td>01-07-2010</td>\n",
              "      <td>25.000000</td>\n",
              "      <td>25.92</td>\n",
              "      <td>20.270000</td>\n",
              "      <td>21.959999</td>\n",
              "      <td>21.959999</td>\n",
              "      <td>8218800</td>\n",
              "    </tr>\n",
              "    <tr>\n",
              "      <th>3</th>\n",
              "      <td>02-07-2010</td>\n",
              "      <td>23.000000</td>\n",
              "      <td>23.10</td>\n",
              "      <td>18.709999</td>\n",
              "      <td>19.200001</td>\n",
              "      <td>19.200001</td>\n",
              "      <td>5139800</td>\n",
              "    </tr>\n",
              "    <tr>\n",
              "      <th>4</th>\n",
              "      <td>06-07-2010</td>\n",
              "      <td>20.000000</td>\n",
              "      <td>20.00</td>\n",
              "      <td>15.830000</td>\n",
              "      <td>16.110001</td>\n",
              "      <td>16.110001</td>\n",
              "      <td>6866900</td>\n",
              "    </tr>\n",
              "  </tbody>\n",
              "</table>\n",
              "</div>"
            ],
            "text/plain": [
              "         Date       Open   High        Low      Close  Adj Close    Volume\n",
              "0  29-06-2010  19.000000  25.00  17.540001  23.889999  23.889999  18766300\n",
              "1  30-06-2010  25.790001  30.42  23.299999  23.830000  23.830000  17187100\n",
              "2  01-07-2010  25.000000  25.92  20.270000  21.959999  21.959999   8218800\n",
              "3  02-07-2010  23.000000  23.10  18.709999  19.200001  19.200001   5139800\n",
              "4  06-07-2010  20.000000  20.00  15.830000  16.110001  16.110001   6866900"
            ]
          },
          "execution_count": 4,
          "metadata": {},
          "output_type": "execute_result"
        }
      ],
      "source": [
        "tesla=pd.read_csv(\"tesla.csv\")\n",
        "tesla.head()"
      ]
    },
    {
      "cell_type": "code",
      "execution_count": null,
      "id": "9666da48",
      "metadata": {
        "id": "9666da48",
        "outputId": "e9f7ab67-a3e2-4027-b43d-a79f2011113e"
      },
      "outputs": [
        {
          "data": {
            "text/plain": [
              "Date         0\n",
              "Open         0\n",
              "High         0\n",
              "Low          0\n",
              "Close        0\n",
              "Adj Close    0\n",
              "Volume       0\n",
              "dtype: int64"
            ]
          },
          "execution_count": 5,
          "metadata": {},
          "output_type": "execute_result"
        }
      ],
      "source": [
        "tesla.isnull().sum()"
      ]
    },
    {
      "cell_type": "code",
      "execution_count": null,
      "id": "3060bad5",
      "metadata": {
        "id": "3060bad5",
        "outputId": "44a542c5-5c56-4f08-cbda-bea1c503848b"
      },
      "outputs": [
        {
          "name": "stdout",
          "output_type": "stream",
          "text": [
            "<class 'pandas.core.frame.DataFrame'>\n",
            "RangeIndex: 2193 entries, 0 to 2192\n",
            "Data columns (total 7 columns):\n",
            " #   Column     Non-Null Count  Dtype  \n",
            "---  ------     --------------  -----  \n",
            " 0   Date       2193 non-null   object \n",
            " 1   Open       2193 non-null   float64\n",
            " 2   High       2193 non-null   float64\n",
            " 3   Low        2193 non-null   float64\n",
            " 4   Close      2193 non-null   float64\n",
            " 5   Adj Close  2193 non-null   float64\n",
            " 6   Volume     2193 non-null   int64  \n",
            "dtypes: float64(5), int64(1), object(1)\n",
            "memory usage: 120.1+ KB\n"
          ]
        }
      ],
      "source": [
        "tesla.info()"
      ]
    },
    {
      "cell_type": "code",
      "execution_count": null,
      "id": "159f4f17",
      "metadata": {
        "id": "159f4f17",
        "outputId": "a62d4bba-0ffb-45d6-c9cb-dccc588a9696"
      },
      "outputs": [
        {
          "data": {
            "text/plain": [
              "0      2010-06-29\n",
              "1      2010-06-30\n",
              "2      2010-01-07\n",
              "3      2010-02-07\n",
              "4      2010-06-07\n",
              "          ...    \n",
              "2188   2019-11-03\n",
              "2189   2019-12-03\n",
              "2190   2019-03-13\n",
              "2191   2019-03-14\n",
              "2192   2019-03-15\n",
              "Name: Date, Length: 2193, dtype: datetime64[ns]"
            ]
          },
          "execution_count": 7,
          "metadata": {},
          "output_type": "execute_result"
        }
      ],
      "source": [
        "#converting date column to datetime using pandas library\n",
        "tesla['Date']=pd.to_datetime(tesla['Date'])\n",
        "tesla['Date']"
      ]
    },
    {
      "cell_type": "code",
      "execution_count": null,
      "id": "a0407260",
      "metadata": {
        "id": "a0407260",
        "outputId": "904c2f85-50ff-481a-8ea3-fa43747f5de8"
      },
      "outputs": [
        {
          "name": "stdout",
          "output_type": "stream",
          "text": [
            "Dataset contains stock prices from 2010-01-07 00:00:00 to 2019-12-03 00:00:00\n",
            "Total_days=3617 days\n"
          ]
        }
      ],
      "source": [
        "#evaluating the dataset\n",
        "print(f'Dataset contains stock prices from {tesla.Date.min()} to {tesla.Date.max()}')\n",
        "print(f'Total_days={(tesla.Date.max()-tesla.Date.min()).days} days')"
      ]
    },
    {
      "cell_type": "code",
      "execution_count": null,
      "id": "4eccb029",
      "metadata": {
        "id": "4eccb029",
        "outputId": "21c4e30f-27e0-4966-a4cb-d5cdff2d833b"
      },
      "outputs": [
        {
          "data": {
            "text/html": [
              "<div>\n",
              "<style scoped>\n",
              "    .dataframe tbody tr th:only-of-type {\n",
              "        vertical-align: middle;\n",
              "    }\n",
              "\n",
              "    .dataframe tbody tr th {\n",
              "        vertical-align: top;\n",
              "    }\n",
              "\n",
              "    .dataframe thead th {\n",
              "        text-align: right;\n",
              "    }\n",
              "</style>\n",
              "<table border=\"1\" class=\"dataframe\">\n",
              "  <thead>\n",
              "    <tr style=\"text-align: right;\">\n",
              "      <th></th>\n",
              "      <th>Open</th>\n",
              "      <th>High</th>\n",
              "      <th>Low</th>\n",
              "      <th>Close</th>\n",
              "      <th>Adj Close</th>\n",
              "      <th>Volume</th>\n",
              "    </tr>\n",
              "  </thead>\n",
              "  <tbody>\n",
              "    <tr>\n",
              "      <th>count</th>\n",
              "      <td>2193.000000</td>\n",
              "      <td>2193.000000</td>\n",
              "      <td>2193.000000</td>\n",
              "      <td>2193.000000</td>\n",
              "      <td>2193.000000</td>\n",
              "      <td>2.193000e+03</td>\n",
              "    </tr>\n",
              "    <tr>\n",
              "      <th>mean</th>\n",
              "      <td>175.652882</td>\n",
              "      <td>178.710262</td>\n",
              "      <td>172.412075</td>\n",
              "      <td>175.648555</td>\n",
              "      <td>175.648555</td>\n",
              "      <td>5.077449e+06</td>\n",
              "    </tr>\n",
              "    <tr>\n",
              "      <th>std</th>\n",
              "      <td>115.580903</td>\n",
              "      <td>117.370092</td>\n",
              "      <td>113.654794</td>\n",
              "      <td>115.580771</td>\n",
              "      <td>115.580771</td>\n",
              "      <td>4.545398e+06</td>\n",
              "    </tr>\n",
              "    <tr>\n",
              "      <th>min</th>\n",
              "      <td>16.139999</td>\n",
              "      <td>16.629999</td>\n",
              "      <td>14.980000</td>\n",
              "      <td>15.800000</td>\n",
              "      <td>15.800000</td>\n",
              "      <td>1.185000e+05</td>\n",
              "    </tr>\n",
              "    <tr>\n",
              "      <th>25%</th>\n",
              "      <td>33.110001</td>\n",
              "      <td>33.910000</td>\n",
              "      <td>32.459999</td>\n",
              "      <td>33.160000</td>\n",
              "      <td>33.160000</td>\n",
              "      <td>1.577800e+06</td>\n",
              "    </tr>\n",
              "    <tr>\n",
              "      <th>50%</th>\n",
              "      <td>204.990005</td>\n",
              "      <td>208.160004</td>\n",
              "      <td>201.669998</td>\n",
              "      <td>204.990005</td>\n",
              "      <td>204.990005</td>\n",
              "      <td>4.171700e+06</td>\n",
              "    </tr>\n",
              "    <tr>\n",
              "      <th>75%</th>\n",
              "      <td>262.000000</td>\n",
              "      <td>265.329987</td>\n",
              "      <td>256.209991</td>\n",
              "      <td>261.739990</td>\n",
              "      <td>261.739990</td>\n",
              "      <td>6.885600e+06</td>\n",
              "    </tr>\n",
              "    <tr>\n",
              "      <th>max</th>\n",
              "      <td>386.690002</td>\n",
              "      <td>389.609985</td>\n",
              "      <td>379.350006</td>\n",
              "      <td>385.000000</td>\n",
              "      <td>385.000000</td>\n",
              "      <td>3.716390e+07</td>\n",
              "    </tr>\n",
              "  </tbody>\n",
              "</table>\n",
              "</div>"
            ],
            "text/plain": [
              "              Open         High          Low        Close    Adj Close  \\\n",
              "count  2193.000000  2193.000000  2193.000000  2193.000000  2193.000000   \n",
              "mean    175.652882   178.710262   172.412075   175.648555   175.648555   \n",
              "std     115.580903   117.370092   113.654794   115.580771   115.580771   \n",
              "min      16.139999    16.629999    14.980000    15.800000    15.800000   \n",
              "25%      33.110001    33.910000    32.459999    33.160000    33.160000   \n",
              "50%     204.990005   208.160004   201.669998   204.990005   204.990005   \n",
              "75%     262.000000   265.329987   256.209991   261.739990   261.739990   \n",
              "max     386.690002   389.609985   379.350006   385.000000   385.000000   \n",
              "\n",
              "             Volume  \n",
              "count  2.193000e+03  \n",
              "mean   5.077449e+06  \n",
              "std    4.545398e+06  \n",
              "min    1.185000e+05  \n",
              "25%    1.577800e+06  \n",
              "50%    4.171700e+06  \n",
              "75%    6.885600e+06  \n",
              "max    3.716390e+07  "
            ]
          },
          "execution_count": 9,
          "metadata": {},
          "output_type": "execute_result"
        }
      ],
      "source": [
        "#shows statistical values for each column\n",
        "tesla.describe()"
      ]
    },
    {
      "cell_type": "code",
      "execution_count": null,
      "id": "49eb2723",
      "metadata": {
        "id": "49eb2723",
        "outputId": "a2220caf-9f2d-49db-efb6-32bc4a240f83"
      },
      "outputs": [
        {
          "data": {
            "text/plain": [
              "<seaborn.axisgrid.JointGrid at 0x22745df3be0>"
            ]
          },
          "execution_count": 10,
          "metadata": {},
          "output_type": "execute_result"
        },
        {
          "data": {
            "image/png": "[encoded data removed]",
            "text/plain": [
              "<Figure size 432x432 with 3 Axes>"
            ]
          },
          "metadata": {
            "needs_background": "light"
          },
          "output_type": "display_data"
        }
      ],
      "source": [
        "import seaborn as sns\n",
        "#Distribution of Open price and date using scatter plot\n",
        "sns.jointplot(x = tesla['Date'], y = tesla['Open'], kind = 'scatter')"
      ]
    },
    {
      "cell_type": "code",
      "execution_count": null,
      "id": "9a57e20b",
      "metadata": {
        "id": "9a57e20b",
        "outputId": "65863c93-dee5-4260-f512-0b99517e362b"
      },
      "outputs": [
        {
          "data": {
            "text/plain": [
              "<seaborn.axisgrid.JointGrid at 0x2274b4fdeb0>"
            ]
          },
          "execution_count": 11,
          "metadata": {},
          "output_type": "execute_result"
        },
        {
          "data": {
            "image/png": "[encoded data removed]",
            "text/plain": [
              "<Figure size 432x432 with 3 Axes>"
            ]
          },
          "metadata": {
            "needs_background": "light"
          },
          "output_type": "display_data"
        }
      ],
      "source": [
        "import seaborn as sns\n",
        "#Distribution of Close price and date using scatter plot\n",
        "sns.jointplot(x = tesla['Date'], y = tesla['Close'], kind = 'scatter')"
      ]
    },
    {
      "cell_type": "code",
      "execution_count": null,
      "id": "d9a8309d",
      "metadata": {
        "id": "d9a8309d",
        "outputId": "ebc93dcd-6059-446f-ebc2-b7c3406addbb"
      },
      "outputs": [
        {
          "data": {
            "text/plain": [
              "[<matplotlib.lines.Line2D at 0x2274bf81040>]"
            ]
          },
          "execution_count": 12,
          "metadata": {},
          "output_type": "execute_result"
        },
        {
          "data": {
            "image/png": "[encoded data removed]",
            "text/plain": [
              "<Figure size 432x288 with 1 Axes>"
            ]
          },
          "metadata": {
            "needs_background": "light"
          },
          "output_type": "display_data"
        }
      ],
      "source": [
        "plt.plot(tesla['Date'],tesla['High'])"
      ]
    },
    {
      "cell_type": "code",
      "execution_count": null,
      "id": "4657d821",
      "metadata": {
        "id": "4657d821",
        "outputId": "35c3e060-c6cc-4e54-b19b-06f2ab5ed95c"
      },
      "outputs": [
        {
          "data": {
            "text/plain": [
              "<AxesSubplot:xlabel='Date', ylabel='Low'>"
            ]
          },
          "execution_count": 13,
          "metadata": {},
          "output_type": "execute_result"
        }
      ],
      "source": [
        "sns.barplot(x = tesla['Date'], y = tesla['Low'])"
      ]
    },
    {
      "cell_type": "code",
      "execution_count": null,
      "id": "ce5f4715",
      "metadata": {
        "id": "ce5f4715"
      },
      "outputs": [],
      "source": [
        "sns.lineplot(data=tesla, x=\"Date\", y=\"Adj Close\")"
      ]
    },
    {
      "cell_type": "code",
      "execution_count": null,
      "id": "4be7e02e",
      "metadata": {
        "id": "4be7e02e"
      },
      "outputs": [],
      "source": [
        "#creating a box plot A Box Plot is the visual representation of the statistical values\n",
        "tesla[['Open','High','Low','Close','Adj Close']].plot(kind='box')"
      ]
    },
    {
      "cell_type": "code",
      "execution_count": null,
      "id": "435706e0",
      "metadata": {
        "id": "435706e0"
      },
      "outputs": [],
      "source": [
        "#setting layout for plot\n",
        "\n",
        "layout=go.Layout(\n",
        "    title='Stock Price of Tesla',\n",
        "    xaxis=dict(\n",
        "        title='Date',\n",
        "        titlefont=dict(\n",
        "            family='Courier New, monospace',\n",
        "            size=18,\n",
        "            color='#7f7f7f'\n",
        "        )\n",
        "    ),\n",
        "    yaxis=dict(\n",
        "        title='Price',\n",
        "        titlefont=dict(\n",
        "            family='Courier New,monospace',\n",
        "            size=18,\n",
        "            color='#7f7f7f'\n",
        "        )\n",
        "    )\n",
        ")\n",
        "\n",
        "tesla_data=[{'x':tesla['Date'], 'y':tesla['Close']}]\n",
        "plot=go.Figure(data=tesla_data, layout=layout)"
      ]
    },
    {
      "cell_type": "code",
      "execution_count": null,
      "id": "f5cd94d5",
      "metadata": {
        "id": "f5cd94d5"
      },
      "outputs": [],
      "source": [
        "iplot(plot)"
      ]
    },
    {
      "cell_type": "code",
      "execution_count": null,
      "id": "700ba19d",
      "metadata": {
        "id": "700ba19d"
      },
      "outputs": [],
      "source": [
        "#building the regression model\n",
        "from sklearn.model_selection import train_test_split\n",
        "\n",
        "#for prepossing\n",
        "from sklearn.preprocessing import MinMaxScaler\n",
        "from sklearn.preprocessing import StandardScaler\n",
        "\n",
        "#for model evaluation\n",
        "from sklearn.metrics import mean_squared_error as mse\n",
        "from sklearn.metrics import r2_score"
      ]
    },
    {
      "cell_type": "code",
      "execution_count": null,
      "id": "407fa3ca",
      "metadata": {
        "id": "407fa3ca"
      },
      "outputs": [],
      "source": [
        "#split the data into train and test \n",
        "x=np.array(tesla.index).reshape(-1,1)\n",
        "x"
      ]
    },
    {
      "cell_type": "code",
      "execution_count": null,
      "id": "2910729c",
      "metadata": {
        "id": "2910729c"
      },
      "outputs": [],
      "source": [
        "y=tesla['Close']\n",
        "y"
      ]
    },
    {
      "cell_type": "code",
      "execution_count": null,
      "id": "66656efc",
      "metadata": {
        "id": "66656efc"
      },
      "outputs": [],
      "source": [
        "#splitting data\n",
        "x_train,x_test,y_train,y_test=train_test_split(x,y,test_size=0.3,random_state=101)"
      ]
    },
    {
      "cell_type": "code",
      "execution_count": null,
      "id": "534f8603",
      "metadata": {
        "id": "534f8603"
      },
      "outputs": [],
      "source": [
        "x_train"
      ]
    },
    {
      "cell_type": "code",
      "execution_count": null,
      "id": "485c9b11",
      "metadata": {
        "id": "485c9b11"
      },
      "outputs": [],
      "source": [
        "y_train"
      ]
    },
    {
      "cell_type": "code",
      "execution_count": null,
      "id": "48053b9f",
      "metadata": {
        "id": "48053b9f"
      },
      "outputs": [],
      "source": [
        "x_test"
      ]
    },
    {
      "cell_type": "code",
      "execution_count": null,
      "id": "f12cf6a6",
      "metadata": {
        "id": "f12cf6a6"
      },
      "outputs": [],
      "source": [
        "y_test"
      ]
    },
    {
      "cell_type": "code",
      "execution_count": null,
      "id": "b95803c2",
      "metadata": {
        "id": "b95803c2"
      },
      "outputs": [],
      "source": [
        "#feature scaling\n",
        "scaler=StandardScaler().fit(x_train)"
      ]
    },
    {
      "cell_type": "code",
      "execution_count": null,
      "id": "04e6e3b9",
      "metadata": {
        "id": "04e6e3b9"
      },
      "outputs": [],
      "source": [
        "from sklearn.linear_model import LinearRegression"
      ]
    },
    {
      "cell_type": "code",
      "execution_count": null,
      "id": "518e0cde",
      "metadata": {
        "id": "518e0cde"
      },
      "outputs": [],
      "source": [
        "#Creating a Linear Regression Model\n",
        "lm=LinearRegression()\n",
        "lm.fit(x_train,y_train)"
      ]
    },
    {
      "cell_type": "code",
      "execution_count": null,
      "id": "b6341ba8",
      "metadata": {
        "id": "b6341ba8"
      },
      "outputs": [],
      "source": [
        "#plot actual and predicted values for dataset\n",
        "trace0=go.Scatter(\n",
        "    x=x_train.T[0],\n",
        "    y=y_train,\n",
        "    mode='markers',\n",
        "    name='Actual'\n",
        ")\n",
        "\n",
        "trace1=go.Scatter(\n",
        "    x=x_train.T[0],\n",
        "    y=lm.predict(x_train).T,\n",
        "    mode='lines',\n",
        "    name='Predicted'\n",
        ")\n",
        "\n",
        "tesla_data=[trace0,trace1]\n",
        "\n",
        "layout.xaxis.title.text='Day'\n",
        "plot2=go.Figure(data=tesla_data, layout=layout)"
      ]
    },
    {
      "cell_type": "code",
      "execution_count": null,
      "id": "e2aa3f2c",
      "metadata": {
        "id": "e2aa3f2c"
      },
      "outputs": [],
      "source": [
        "iplot(plot2)"
      ]
    },
    {
      "cell_type": "code",
      "execution_count": null,
      "id": "d962ad94",
      "metadata": {
        "id": "d962ad94"
      },
      "outputs": [],
      "source": [
        "#calculating score for model evaluation\n",
        "print('====================================================')\n",
        "print(\"R2_SCORE(Train)::\",r2_score(y_train,lm.predict(x_train)))\n",
        "print(\"R2_SCORE(Test)::\",r2_score(y_test,lm.predict(x_test)))\n",
        "print('====================================================')\n",
        "print(\"MSE(Train)::\",mse(y_train,lm.predict(x_train)))\n",
        "print(\"MSE(Test)::\",mse(y_test,lm.predict(x_test)))\n",
        "print('====================================================')\n"
      ]
    }
  ],
  "metadata": {
    "kernelspec": {
      "display_name": "Python 3 (ipykernel)",
      "language": "python",
      "name": "python3"
    },
    "language_info": {
      "codemirror_mode": {
        "name": "ipython",
        "version": 3
      },
      "file_extension": ".py",
      "mimetype": "text/x-python",
      "name": "python",
      "nbconvert_exporter": "python",
      "pygments_lexer": "ipython3",
      "version": "3.9.7"
    },
    "colab": {
      "name": "LP1_M11_Group_2_Code.ipynb",
      "provenance": []
    }
  },
  "nbformat": 4,
  "nbformat_minor": 5
}